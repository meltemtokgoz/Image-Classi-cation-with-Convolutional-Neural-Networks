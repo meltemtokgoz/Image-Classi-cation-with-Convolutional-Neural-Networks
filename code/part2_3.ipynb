{
  "nbformat": 4,
  "nbformat_minor": 0,
  "metadata": {
    "colab": {
      "name": "Untitled1.ipynb",
      "version": "0.3.2",
      "provenance": [],
      "collapsed_sections": []
    },
    "kernelspec": {
      "name": "python3",
      "display_name": "Python 3"
    },
    "accelerator": "GPU"
  },
  "cells": [
    {
      "cell_type": "code",
      "metadata": {
        "id": "M1O0jfyn9WEe",
        "colab_type": "code",
        "outputId": "0b478428-cba4-463f-bc96-6318e2ad8346",
        "colab": {
          "base_uri": "https://localhost:8080/",
          "height": 35
        }
      },
      "source": [
        "from google.colab import drive\n",
        "drive.mount('/content/drive')"
      ],
      "execution_count": 12,
      "outputs": [
        {
          "output_type": "stream",
          "text": [
            "Drive already mounted at /content/drive; to attempt to forcibly remount, call drive.mount(\"/content/drive\", force_remount=True).\n"
          ],
          "name": "stdout"
        }
      ]
    },
    {
      "cell_type": "code",
      "metadata": {
        "id": "Jpbfgvc7-BVI",
        "colab_type": "code",
        "outputId": "45ce00f8-a373-48dd-cbab-43847bbbcd91",
        "colab": {
          "base_uri": "https://localhost:8080/",
          "height": 35
        }
      },
      "source": [
        "! ls \"/content/drive/My Drive/dataset\""
      ],
      "execution_count": 13,
      "outputs": [
        {
          "output_type": "stream",
          "text": [
            "test  train  validation\n"
          ],
          "name": "stdout"
        }
      ]
    },
    {
      "cell_type": "code",
      "metadata": {
        "id": "IWpxrFHH-IkM",
        "colab_type": "code",
        "colab": {}
      },
      "source": [
        "import torch\n",
        "import torch.nn as nn\n",
        "import torch.optim as optim\n",
        "from torch.optim import lr_scheduler\n",
        "import numpy as np\n",
        "import torchvision\n",
        "from torchvision import datasets, models, transforms\n",
        "import matplotlib.pyplot as plt\n",
        "import time\n",
        "import os\n",
        "import copy\n",
        "import itertools\n",
        "from sklearn.svm import LinearSVC\n",
        "from sklearn.multiclass import OneVsRestClassifier\n",
        "from sklearn.metrics import confusion_matrix\n",
        "plt.ion()"
      ],
      "execution_count": 0,
      "outputs": []
    },
    {
      "cell_type": "code",
      "metadata": {
        "id": "CeF874QI-SgB",
        "colab_type": "code",
        "colab": {}
      },
      "source": [
        "data_transforms = {\n",
        "    'train': transforms.Compose([\n",
        "        transforms.RandomResizedCrop(224),\n",
        "        transforms.RandomHorizontalFlip(),\n",
        "        transforms.ToTensor(),\n",
        "        transforms.Normalize([0.485, 0.456, 0.406], [0.229, 0.224, 0.225])\n",
        "    ]),\n",
        "    'validation': transforms.Compose([\n",
        "        transforms.Resize(256),\n",
        "        transforms.CenterCrop(224),\n",
        "        transforms.ToTensor(),\n",
        "        transforms.Normalize([0.485, 0.456, 0.406], [0.229, 0.224, 0.225])\n",
        "    ]),\n",
        "    'test': transforms.Compose([\n",
        "            transforms.Resize(256),\n",
        "            transforms.CenterCrop(224),\n",
        "            transforms.ToTensor(),\n",
        "            transforms.Normalize([0.485, 0.456, 0.406], [0.229, 0.224, 0.225])\n",
        "    ]),\n",
        "}"
      ],
      "execution_count": 0,
      "outputs": []
    },
    {
      "cell_type": "code",
      "metadata": {
        "id": "Cp8cGMrh-br2",
        "colab_type": "code",
        "colab": {}
      },
      "source": [
        "directory = '/content/drive/My Drive/dataset'\n",
        "i_dataset = {x: datasets.ImageFolder(os.path.join(directory, x),data_transforms[x])for x in ['train', 'validation', 'test']}\n",
        "\n",
        "data_load = {x: torch.utils.data.DataLoader(i_dataset[x], batch_size=64, shuffle=True, num_workers=4)\n",
        "              for x in ['train', 'validation' ,'test']}\n",
        "\n",
        "data_size = {x: len(i_dataset[x]) for x in ['train', 'validation','test']}\n",
        "\n",
        "#print({x: len(i_dataset[x]) for x in ['train', 'validation','test']})\n",
        "\n",
        "class_label = i_dataset['train'].classes\n",
        "#print(class_label)\n",
        "\n",
        "device = \"cuda:0\" if torch.cuda.is_available() else \"cpu\"\n",
        "#print(device)"
      ],
      "execution_count": 0,
      "outputs": []
    },
    {
      "cell_type": "code",
      "metadata": {
        "id": "e-N6vjpH-TCc",
        "colab_type": "code",
        "colab": {}
      },
      "source": [
        "def model_of_training(model, criterion, optimizer, epoch_num):\n",
        "   \n",
        "    best_model = copy.deepcopy(model.state_dict())\n",
        "    train_acc = 0.0\n",
        "    train_acc_hist = list()\n",
        "    val_acc = 0.0\n",
        "    val_acc_hist = list()\n",
        "    loss_train_hist = list()\n",
        "    loss_val_hist = list()\n",
        "    \n",
        "    for epoch in range(epoch_num):\n",
        "        for section in ['train', 'validation']:\n",
        "            if section == 'train':\n",
        "                model.train()  \n",
        "            else:\n",
        "                model.eval()  \n",
        "\n",
        "            loss_now = 0.0\n",
        "            correct_out_now = 0\n",
        "            \n",
        "            for x, y in data_load[section]:\n",
        "                x = x.to(device)\n",
        "                y = y.to(device)\n",
        "                optimizer.zero_grad()\n",
        "                \n",
        "                #forward\n",
        "                with torch.set_grad_enabled(section == 'train'):\n",
        "                    out = model(x)\n",
        "                    _, preds = torch.max(out, 1)\n",
        "                    loss = criterion(out, y)\n",
        "                    # Backpropagation and Opitimization Training Section\n",
        "                    if section == 'train':\n",
        "                        loss.backward()\n",
        "                        optimizer.step()\n",
        "\n",
        "                loss_now += loss.item() * x.size(0)\n",
        "                correct_out_now += torch.sum(preds == y.data)\n",
        "\n",
        "            loss_now = loss_now / data_size[section]\n",
        "            accuracy_epoch = correct_out_now.double() / data_size[section]\n",
        "            \n",
        "            if section == 'validation':\n",
        "                val_acc_hist.append(accuracy_epoch)\n",
        "                loss_val_hist.append(loss_now)\n",
        "            else:\n",
        "                train_acc_hist.append(accuracy_epoch)\n",
        "                loss_train_hist.append(loss_now)\n",
        "            \n",
        "            if section == 'train' and accuracy_epoch > train_acc:\n",
        "                train_acc = accuracy_epoch\n",
        "            if section == 'validation' and accuracy_epoch > val_acc:\n",
        "                val_acc = accuracy_epoch\n",
        "                \n",
        "                best_model = copy.deepcopy(model.state_dict())\n",
        "       \n",
        "\n",
        "    print('Train Accuracy: {:.2f}'.format(100*train_acc))\n",
        "    print('Validation Accuracy: {:.2f}'.format(100*val_acc))\n",
        "\n",
        "    # load best model weights\n",
        "    model.load_state_dict(best_model)\n",
        " \n",
        "    plt.xlabel(\"Training Epochs\")\n",
        "    plt.ylabel(\"Loss\")\n",
        "    #plt.plot(train_acc_hist, color=\"blue\")\n",
        "    #plt.plot(val_acc_hist, color=\"yellow\")\n",
        "    plt.plot(loss_train_hist, color=\"green\")\n",
        "    plt.plot(loss_val_hist, color=\"red\")\n",
        "    plt.gca().legend(('Train', 'Validation'))\n",
        "    plt.show()\n",
        "\n",
        "    return model\n"
      ],
      "execution_count": 0,
      "outputs": []
    },
    {
      "cell_type": "code",
      "metadata": {
        "id": "Ydz7wpLS7Cs5",
        "colab_type": "code",
        "colab": {}
      },
      "source": [
        ""
      ],
      "execution_count": 0,
      "outputs": []
    },
    {
      "cell_type": "code",
      "metadata": {
        "id": "KdNaSNM3eWgJ",
        "colab_type": "code",
        "colab": {}
      },
      "source": [
        "def conf_mat_plot(cm, label):\n",
        "   \n",
        "    cmap=plt.cm.Blues\n",
        "    plt.imshow(cm, interpolation='nearest', cmap=cmap)\n",
        "    plt.colorbar()\n",
        "    tick_marks = np.arange(len(label))\n",
        "    plt.xticks(tick_marks, label, rotation=45)\n",
        "    plt.yticks(tick_marks, label)\n",
        "    \n",
        "    threshold = cm.max() / 2.\n",
        "    for i, j in itertools.product(range(cm.shape[0]), range(cm.shape[1])):\n",
        "        plt.text(j, i, format(cm[i, j]),horizontalalignment=\"center\",color=\"white\" if cm[i, j] > threshold else \"black\")\n",
        "        \n",
        "    plt.xlabel('Predicted label')    \n",
        "    plt.ylabel('True label')\n",
        "    \n"
      ],
      "execution_count": 0,
      "outputs": []
    },
    {
      "cell_type": "code",
      "metadata": {
        "id": "3DclmerYWLR7",
        "colab_type": "code",
        "colab": {}
      },
      "source": [
        "def test_acc(trained_model, data_load, data_size):\n",
        "  \n",
        "  correct = 0\n",
        "  top_five = 0\n",
        "  top_one = 0\n",
        "  len_test = data_size['test']\n",
        "  cm = torch.zeros(10, 10)\n",
        "  np.set_printoptions(precision=2)\n",
        "  \n",
        "  with torch.no_grad():\n",
        "    for i, (x, y) in enumerate(data_load['test']):\n",
        "        x = x.to(device)\n",
        "        y = y.to(device)\n",
        "        out = trained_model(x)\n",
        "        _, preds = torch.max(out, 1)\n",
        "        correct  += torch.sum(preds == y.data)\n",
        "        \n",
        "        \n",
        "        for t, p in zip(y.view(-1), preds.view(-1)):\n",
        "            cm[t.long(), p.long()] += 1\n",
        "            \n",
        "            \n",
        "        probabilities, labels = out.topk(5,dim=1)\n",
        "        for p in range(labels.size(0)):\n",
        "          if y[p] in labels[p]:\n",
        "             top_five +=1\n",
        "              \n",
        "        probabilities, labels = out.topk(1,dim=1)\n",
        "        for p in range(labels.size(0)):\n",
        "          if y[p] in labels[p]:\n",
        "             top_one +=1\n",
        "              \n",
        "    \n",
        "    top1_s = 100*top_one / len_test\n",
        "    top5_s = 100*top_five / len_test\n",
        "    test_acc =100*correct.double() / len_test\n",
        "    \n",
        "    print('Test acc: {:.2f}'.format(test_acc))\n",
        "    print('Top5 acc: {:.2f}'.format(top5_s))\n",
        "    print('Top1 acc: {:.2f}'.format(top1_s))\n",
        "          \n",
        "  return cm\n",
        "    "
      ],
      "execution_count": 0,
      "outputs": []
    },
    {
      "cell_type": "code",
      "metadata": {
        "id": "XvFt_Ezu-WWW",
        "colab_type": "code",
        "colab": {}
      },
      "source": [
        "vgg16_model = models.vgg16(pretrained=True)  \n",
        "#Freeze model weights  \n",
        "for param in vgg16_model.features.parameters():\n",
        "    param.requires_grad = False\n",
        "\n",
        "num_ftrs = vgg16_model.classifier[6].in_features\n",
        "vgg16_model.classifier[6] = nn.Linear(num_ftrs ,10)\n",
        "    \n",
        "#print(vgg16_model)\n",
        "vgg16_model  =vgg16_model.to(device)\n",
        "criterion = nn.CrossEntropyLoss()\n",
        "optimizer = torch.optim.Adam(vgg16_model.parameters(), lr=0.0001)\n",
        "\n",
        "model_trained = model_of_training(vgg16_model, criterion, optimizer ,epoch_num=10)\n",
        "\n",
        "matrix = test_acc(vgg16_model,data_load,data_size)\n",
        "\n",
        "plt.figure(figsize = (10,10))\n",
        "conf_mat_plot(matrix , label=class_label)\n",
        "plt.show()\n"
      ],
      "execution_count": 0,
      "outputs": []
    },
    {
      "cell_type": "code",
      "metadata": {
        "id": "6UZSAh-2DTi4",
        "colab_type": "code",
        "outputId": "e456ebe4-b6b4-4702-c9a2-1b9681d079df",
        "colab": {
          "base_uri": "https://localhost:8080/",
          "height": 248
        }
      },
      "source": [
        "#### PART 3 #############\n",
        "\n",
        "#delete fc8 layer\n",
        "model_trained.classifier = nn.Sequential(*list(model_trained.classifier.children())[:-2])\n",
        "#print(model_trained)\n",
        "\n",
        "\n",
        "model_trained.eval()\n",
        "model_trained.to(device)\n",
        "\n",
        "test_x = []            \n",
        "test_y =[]\n",
        "   \n",
        "tr_x = []\n",
        "tr_y = []\n",
        "               \n",
        "with torch.no_grad():\n",
        "  \n",
        "    for i, (x,y) in enumerate(data_load['train']):\n",
        "        x = x.to(device)\n",
        "        features1 = model_trained(x)\n",
        "\n",
        "        tr_y.extend(y.cpu().numpy())\n",
        "        tr_x.extend(features1.cpu().numpy())\n",
        "        \n",
        "    for i, (a,b) in enumerate(data_load['test']):\n",
        "        a = a.to(device)\n",
        "        features2 = model_trained(a)\n",
        "\n",
        "        test_y.extend(b.cpu().numpy())\n",
        "        test_x.extend(features2.cpu().numpy())\n",
        "\n",
        "len_test = len(i_dataset[\"test\"].classes) \n",
        "correct = np.zeros(len_test)\n",
        "total = data_size['test']/ len_test\n",
        "\n",
        "classify = LinearSVC(random_state=0, max_iter=3000)\n",
        "classifier =classify.fit(tr_x, tr_y)\n",
        "\n",
        "pred_test =classify.predict(test_x)\n",
        "for i in range(len(pred_test)):\n",
        "  if(pred_test[i] == test_y[i]):\n",
        "    correct[pred_test[i]] = correct[pred_test[i]] + 1\n",
        "\n",
        "result_acc = 100*classify.score(test_x,test_y)\n",
        "print('Part 1 Average Accuracy : {:.2f}'.format(result_acc))\n",
        "\n",
        "for i in range(len(correct)):\n",
        "  correct[i] = 100* correct[i]/total\n",
        "  print(\"{} Class Accuracy = {:.2f}%\".format(class_label[i], correct[i]))\n",
        "  "
      ],
      "execution_count": 21,
      "outputs": [
        {
          "output_type": "stream",
          "text": [
            "Part 1 Average Accuracy : 82.40\n",
            "airport_inside Class Accuracy = 64.00%\n",
            "bar Class Accuracy = 80.00%\n",
            "bedroom Class Accuracy = 84.00%\n",
            "casino Class Accuracy = 92.00%\n",
            "inside_subway Class Accuracy = 100.00%\n",
            "kitchen Class Accuracy = 80.00%\n",
            "livingroom Class Accuracy = 68.00%\n",
            "restaurant Class Accuracy = 76.00%\n",
            "subway Class Accuracy = 84.00%\n",
            "warehouse Class Accuracy = 96.00%\n"
          ],
          "name": "stdout"
        },
        {
          "output_type": "stream",
          "text": [
            "/usr/local/lib/python3.6/dist-packages/sklearn/svm/base.py:931: ConvergenceWarning: Liblinear failed to converge, increase the number of iterations.\n",
            "  \"the number of iterations.\", ConvergenceWarning)\n"
          ],
          "name": "stderr"
        }
      ]
    },
    {
      "cell_type": "code",
      "metadata": {
        "id": "GHJujQyovIg1",
        "colab_type": "code",
        "colab": {
          "base_uri": "https://localhost:8080/",
          "height": 368
        },
        "outputId": "ced9d3a8-b5ec-4919-ccd7-e79af848d2fc"
      },
      "source": [
        "c_m = confusion_matrix(test_y, pred_test)\n",
        "normalize = False\n",
        "fig = plt.figure()\n",
        "ax = fig.add_subplot(111)\n",
        "cax = ax.matshow(c_m)\n",
        "fig.colorbar(cax)\n",
        "\n",
        "fmt = '.2f' if normalize else 'd'\n",
        "thresh = c_m.max() / 2.\n",
        "for i in range(c_m.shape[0]):\n",
        "    for j in range(c_m.shape[1]):\n",
        "        ax.text(j, i, format(c_m[i, j], fmt),\n",
        "                ha=\"center\", va=\"center\",\n",
        "                color=\"black\" if c_m[i, j] > thresh else \"white\")\n",
        "fig.tight_layout()\n",
        "\n",
        "tick_marks = np.arange(len(class_label))\n",
        "plt.xticks(tick_marks,class_label, rotation=90)\n",
        "plt.yticks(tick_marks,class_label)    \n",
        "plt.xlabel('Predicted')\n",
        "plt.ylabel('True')\n",
        "plt.show()"
      ],
      "execution_count": 22,
      "outputs": [
        {
          "output_type": "display_data",
          "data": {
            "image/png": "[encoded data removed]",
            "text/plain": [
              "<Figure size 432x288 with 2 Axes>"
            ]
          },
          "metadata": {
            "tags": []
          }
        }
      ]
    }
  ]
}