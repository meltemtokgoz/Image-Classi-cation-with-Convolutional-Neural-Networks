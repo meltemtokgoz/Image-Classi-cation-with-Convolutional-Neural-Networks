{
  "nbformat": 4,
  "nbformat_minor": 0,
  "metadata": {
    "colab": {
      "name": "Untitled0.ipynb",
      "version": "0.3.2",
      "provenance": [],
      "collapsed_sections": []
    },
    "kernelspec": {
      "name": "python3",
      "display_name": "Python 3"
    },
    "accelerator": "GPU"
  },
  "cells": [
    {
      "cell_type": "code",
      "metadata": {
        "id": "F_h6OkGTUuJT",
        "colab_type": "code",
        "outputId": "f4c09708-6c66-41ca-ec48-7bbc3b66415b",
        "colab": {
          "base_uri": "https://localhost:8080/",
          "height": 35
        }
      },
      "source": [
        "from google.colab import drive\n",
        "drive.mount('/content/drive')"
      ],
      "execution_count": 0,
      "outputs": [
        {
          "output_type": "stream",
          "text": [
            "Drive already mounted at /content/drive; to attempt to forcibly remount, call drive.mount(\"/content/drive\", force_remount=True).\n"
          ],
          "name": "stdout"
        }
      ]
    },
    {
      "cell_type": "code",
      "metadata": {
        "id": "LURqo6fjWm2J",
        "colab_type": "code",
        "outputId": "acb834ee-50b6-44d7-aab4-51774b8b51cd",
        "colab": {
          "base_uri": "https://localhost:8080/",
          "height": 35
        }
      },
      "source": [
        "! ls \"/content/drive/My Drive/dataset\""
      ],
      "execution_count": 0,
      "outputs": [
        {
          "output_type": "stream",
          "text": [
            "test  train  validation\n"
          ],
          "name": "stdout"
        }
      ]
    },
    {
      "cell_type": "code",
      "metadata": {
        "id": "HIdxeJSRVF4R",
        "colab_type": "code",
        "colab": {}
      },
      "source": [
        "import torch\n",
        "import numpy as np\n",
        "from torchvision import datasets, models, transforms\n",
        "import os\n",
        "import torch.nn as nn\n",
        "from sklearn.svm import LinearSVC\n",
        "from sklearn.metrics import confusion_matrix\n",
        "import matplotlib.pyplot as plt"
      ],
      "execution_count": 0,
      "outputs": []
    },
    {
      "cell_type": "code",
      "metadata": {
        "id": "IjNbAnL-Xkkf",
        "colab_type": "code",
        "colab": {}
      },
      "source": [
        "data_transforms = {\n",
        "    'train': transforms.Compose([\n",
        "        transforms.RandomResizedCrop(224),\n",
        "        transforms.RandomHorizontalFlip(),\n",
        "        transforms.ToTensor(),\n",
        "        transforms.Normalize([0.485, 0.456, 0.406], [0.229, 0.224, 0.225])\n",
        "    ]),\n",
        "    'validation': transforms.Compose([\n",
        "        transforms.Resize(256),\n",
        "        transforms.CenterCrop(224),\n",
        "        transforms.ToTensor(),\n",
        "        transforms.Normalize([0.485, 0.456, 0.406], [0.229, 0.224, 0.225])\n",
        "    ]),\n",
        "    'test': transforms.Compose([\n",
        "        transforms.Resize(256),\n",
        "        transforms.CenterCrop(224),\n",
        "        transforms.ToTensor(),\n",
        "        transforms.Normalize([0.485, 0.456, 0.406], [0.229, 0.224, 0.225])\n",
        "    ]),\n",
        "}"
      ],
      "execution_count": 0,
      "outputs": []
    },
    {
      "cell_type": "code",
      "metadata": {
        "id": "CK_JTC4FXosv",
        "colab_type": "code",
        "outputId": "22ad4c95-2cd4-4d8b-c24d-5de30224bed9",
        "colab": {
          "base_uri": "https://localhost:8080/",
          "height": 70
        }
      },
      "source": [
        "directory = '/content/drive/My Drive/dataset'\n",
        "i_dataset = {x: datasets.ImageFolder(os.path.join(directory, x),data_transforms[x])for x in ['train', 'validation', 'test']}\n",
        "\n",
        "data_load = {x: torch.utils.data.DataLoader(i_dataset[x], batch_size=64, shuffle=True, num_workers=4)\n",
        "              for x in ['train', 'validation' ,'test']}\n",
        "\n",
        "data_size = {x: len(i_dataset[x]) for x in ['train', 'validation','test']}\n",
        "\n",
        "print({x: len(i_dataset[x]) for x in ['train', 'validation','test']})\n",
        "class_label = i_dataset['train'].classes\n",
        "print(class_label)\n",
        "\n",
        "device = \"cuda:0\" if torch.cuda.is_available() else \"cpu\"\n",
        "print(device)"
      ],
      "execution_count": 0,
      "outputs": [
        {
          "output_type": "stream",
          "text": [
            "{'train': 4000, 'validation': 250, 'test': 250}\n",
            "['airport_inside', 'bar', 'bedroom', 'casino', 'inside_subway', 'kitchen', 'livingroom', 'restaurant', 'subway', 'warehouse']\n",
            "cuda:0\n"
          ],
          "name": "stdout"
        }
      ]
    },
    {
      "cell_type": "markdown",
      "metadata": {
        "id": "wCGI_x2nchzD",
        "colab_type": "text"
      },
      "source": [
        "# **Part1**"
      ]
    },
    {
      "cell_type": "code",
      "metadata": {
        "id": "lp4qWQDkM5D3",
        "colab_type": "code",
        "colab": {}
      },
      "source": [
        "#Create Model\n",
        "vgg16_model = models.vgg16(pretrained=True) \n",
        "\n",
        "#Freeze model weights  \n",
        "for param in vgg16_model.features.parameters():\n",
        "    param.requires_grad = False\n",
        "\n",
        "#Delete fc8 layer\n",
        "vgg16_model.classifier = nn.Sequential(*list(vgg16_model.classifier.children())[:-2])\n",
        "#print(vgg16_model)"
      ],
      "execution_count": 0,
      "outputs": []
    },
    {
      "cell_type": "code",
      "metadata": {
        "id": "kazcwnRVaqk5",
        "colab_type": "code",
        "outputId": "dd84452b-daee-48f4-ae97-68d5a54a072a",
        "colab": {
          "base_uri": "https://localhost:8080/",
          "height": 212
        }
      },
      "source": [
        "vgg16_model.eval()\n",
        "vgg16_model.to(device)\n",
        "\n",
        "test_x = []            \n",
        "test_y =[]\n",
        "   \n",
        "tr_x = []\n",
        "tr_y = []\n",
        "               \n",
        "with torch.no_grad():\n",
        "  \n",
        "    for i, (x,y) in enumerate(data_load['train']):\n",
        "        x = x.to(device)\n",
        "        features1 = vgg16_model(x)\n",
        "\n",
        "        tr_y.extend(y.cpu().numpy())\n",
        "        tr_x.extend(features1.cpu().numpy())\n",
        "        \n",
        "    for i, (a,b) in enumerate(data_load['test']):\n",
        "        a = a.to(device)\n",
        "        features2 = vgg16_model(a)\n",
        "\n",
        "        test_y.extend(b.cpu().numpy())\n",
        "        test_x.extend(features2.cpu().numpy())\n",
        "\n",
        "\n",
        "len_test = len(i_dataset[\"test\"].classes) \n",
        "correct = np.zeros(len_test)\n",
        "total = data_size['test']/ len_test\n",
        "\n",
        "classify = LinearSVC(random_state=0, max_iter=500)\n",
        "classifier =classify.fit(tr_x, tr_y)\n",
        "\n",
        "pred_test =classify.predict(test_x)\n",
        "for i in range(len(pred_test)):\n",
        "  if(pred_test[i] == test_y[i]):\n",
        "    correct[pred_test[i]] = correct[pred_test[i]] + 1\n",
        "\n",
        "result_acc = 100*classify.score(test_x,test_y)\n",
        "print('Part 1 Average Accuracy : {:.2f}'.format(result_acc))\n",
        "\n",
        "for i in range(len(correct)):\n",
        "  correct[i] = 100* correct[i]/total\n",
        "  print(\"{} Class Accuracy = {:.2f}%\".format(class_label[i], correct[i]))\n",
        "  "
      ],
      "execution_count": 0,
      "outputs": [
        {
          "output_type": "stream",
          "text": [
            "Part 1 Average Accuracy : 84.00\n",
            "airport_inside Class Accuracy = 72.00%\n",
            "bar Class Accuracy = 80.00%\n",
            "bedroom Class Accuracy = 80.00%\n",
            "casino Class Accuracy = 92.00%\n",
            "inside_subway Class Accuracy = 96.00%\n",
            "kitchen Class Accuracy = 84.00%\n",
            "livingroom Class Accuracy = 64.00%\n",
            "restaurant Class Accuracy = 80.00%\n",
            "subway Class Accuracy = 96.00%\n",
            "warehouse Class Accuracy = 96.00%\n"
          ],
          "name": "stdout"
        }
      ]
    },
    {
      "cell_type": "code",
      "metadata": {
        "id": "RSpXSc8DtC2c",
        "colab_type": "code",
        "outputId": "3de7da5f-2a00-46f5-e063-05cfcd7ba936",
        "colab": {
          "base_uri": "https://localhost:8080/",
          "height": 368
        }
      },
      "source": [
        "cm = confusion_matrix(test_y, pred_test)\n",
        "normalize = False\n",
        "fig = plt.figure()\n",
        "ax = fig.add_subplot(111)\n",
        "cax = ax.matshow(cm)\n",
        "fig.colorbar(cax)\n",
        "\n",
        "fmt = '.2f' if normalize else 'd'\n",
        "thresh = cm.max() / 2.\n",
        "for i in range(cm.shape[0]):\n",
        "    for j in range(cm.shape[1]):\n",
        "        ax.text(j, i, format(cm[i, j], fmt),\n",
        "                ha=\"center\", va=\"center\",\n",
        "                color=\"black\" if cm[i, j] > thresh else \"white\")\n",
        "fig.tight_layout()\n",
        "\n",
        "tick_marks = np.arange(len(class_label))\n",
        "plt.xticks(tick_marks,class_label, rotation=90)\n",
        "plt.yticks(tick_marks,class_label)    \n",
        "plt.xlabel('Predicted')\n",
        "plt.ylabel('True')\n",
        "plt.show()"
      ],
      "execution_count": 0,
      "outputs": [
        {
          "output_type": "display_data",
          "data": {
            "image/png": "[encoded data removed]",
            "text/plain": [
              "<Figure size 432x288 with 2 Axes>"
            ]
          },
          "metadata": {
            "tags": []
          }
        }
      ]
    }
  ]
}